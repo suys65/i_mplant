{
 "cells": [
  {
   "cell_type": "code",
   "execution_count": 9,
   "metadata": {},
   "outputs": [
    {
     "name": "stdout",
     "output_type": "stream",
     "text": [
      "Pickle 파일 저장 완료!\n"
     ]
    }
   ],
   "source": [
    "# 필요한 라이브러리를 불러옵니다.\n",
    "import pandas as pd\n",
    "\n",
    "# pandas를 사용하여 CSV 파일을 불러옵니다.\n",
    "df = pd.read_csv('C:/my_code/implant/croller/P_KORNAME.csv', encoding='cp949')\n",
    "\n",
    "# 데이터프레임을 pickle 형식으로 저장합니다.\n",
    "df.to_pickle('P_KORNAME.pkl')\n",
    "\n",
    "print('Pickle 파일 저장 완료!')\n"
   ]
  },
  {
   "cell_type": "code",
   "execution_count": 6,
   "metadata": {},
   "outputs": [
    {
     "name": "stdout",
     "output_type": "stream",
     "text": [
      "['Lycopus', 'Philadelphus', 'Senna', 'Monotropastrum', 'Cyperus', 'Sium', 'Eurya', 'Hoya', 'Morella', 'Celosia', 'Phegopteris', 'Cornus', 'Bothriochloa', 'Polystichum', 'Calystegia', 'Impatiens', 'Osmanthus', 'Carex', 'Gymnocalycium', 'Themeda', 'Akebia', 'Scopolia', 'Houttuynia', 'Valeriana', 'Albizia', 'Angelica', 'Euonymus', 'Nymphoides', 'Viola', 'Cassia', 'Bidens', 'Azolla', 'Betula', 'Osmunda', 'Coniogramme', 'Lindera', 'Prunus', 'Pyrus', 'Ficus', 'Camellia', 'Maianthemum', 'Phyllostachys', 'Epilobium', 'Celtis', 'Mollugo', 'Aster', 'Trichosanthes', 'Arenaria', 'Astilbe', 'Arachniodes', 'Ailanthus', 'Ilex', 'Poa', 'Pilea', 'Bupleurum', 'Pedicularis', 'Dryopteris', 'Acer', 'Thuja', 'Galinsoga', 'Sophora', 'Spiraea', 'Photinia', 'Eleusine', 'Aucuba', 'Scutellaria', 'Corispermum', 'Melia', 'Callistephus', 'Ixeris', 'Glechoma', 'Aphananthe', 'Fraxinus', 'Euphorbia', 'Pinus', 'Oenothera', 'Allium', 'Fatsia', 'Chosenia', 'Spergula', 'Equisetum', 'Gleditsia', 'Rubus', 'Ginkgo', 'Toxicodendron', 'Lilium', 'Gypsophila', 'Trillium', 'Sonchus', 'Pteris', 'Peperomia', 'Phlomoides', 'Circaea', 'Paeonia', 'Magnolia', 'Myosotis', 'Zamioculcas', 'Pittosporum', 'Aira', 'Salvia', 'Abies', 'Youngia', 'Lonicera', 'Ampelopsis', 'Elsholtzia', 'Chloranthus', 'Erigeron', 'Beckmannia', 'Narcissus', 'Ixora', 'Dennstaedtia', 'Hydrocharis', 'Taxus', 'Leptopetalum', 'Papaver', 'Juniperus', 'Syzygium', 'Citrus', 'Aruncus', 'Durio', 'Amphicarpaea', 'Leonurus', 'Eremogone', 'Carpinus', 'Plantago', 'Elaeagnus', 'Rodgersia', 'Hibiscus', 'Muscari', 'Forsythia', 'Quercus', 'Dactylorhiza', 'Diabelia', 'Trifolium', 'Lespedeza', 'Trachelospermum', 'Monochoria', 'Pyrrosia', 'Lamium', 'Chrysanthemum', 'Caladium', 'Cuphea', 'Sorghum', 'Castanopsis', 'Stellaria', 'Dianthus', 'Patrinia', 'Hosta', 'Pogonia', 'Disporum', 'Rohdea', 'Centipeda', 'Penthorum', 'Persicaria', 'Fagopyrum', 'Echinochloa', 'Cephalanthera', 'Cardamine', 'Dracocephalum', 'Cannabis', 'Edgeworthia', 'Amaranthus', 'Cryptomeria', 'Rudbeckia', 'Saururus', 'Berberis', 'Ribes', 'Grevillea', 'Tephroseris', 'Ambrosia', 'Arachis', 'Robinia', 'Diospyros', 'Melampyrum', 'Illicium', 'Eragrostis', 'Lactuca', 'Meliosma', 'Ajuga', 'Oxalis', 'Chrysosplenium', 'Digitaria', 'Achillea', 'Carpesium', 'Fimbristylis', 'Eleutherococcus', 'Vaccaria', 'Rhaphiolepis', 'Rumex', 'Larix', 'Symphyotrichum', 'Typha', 'Arisaema', 'Castanea', 'Hydrocotyle', 'Jasminum', 'Sterculia', 'Bromus', 'Anaphalis', 'Zinnia', 'Crataegus', 'Thujopsis', 'Kalanchoe', 'Trigonotis', 'Potentilla', 'Chenopodium', 'Rhododendron', 'Arctostaphylos', 'Sorbaria', 'Parthenium', 'Capsella', 'Stephanotis', 'Echinopsis', 'Lemna', 'Haplopteris', 'Idesia', 'Gentiana', 'Barnardia', 'Ophiopogon', 'Ostrya', 'Cymbidium', 'Acorus', 'Primula', 'Nicandra', 'Deutzia', 'Phalaris', 'Odontosoria', 'Boehmeria', 'Gazania', 'Liriope', 'Daphniphyllum', 'Arthraxon', 'Iris', 'Vitis', 'Pyrola', 'Epimedium', 'Cirsium', 'Vincetoxicum', 'Acalypha', 'Chlorophytum', 'Hylotelephium', 'Cryptotaenia', 'Nigella', 'Passiflora', 'Zanthoxylum', 'Athyrium', 'Salicornia', 'Orostachys', 'Clinopodium', 'Beta', 'Viscum', 'Heliopsis', 'Carduus', 'Aegopodium', 'Petunia', 'Fittonia', 'Digitalis', 'Ficaria', 'Pyracantha', 'Alternanthera', 'Echeveria', 'Eugenia', 'Phoenix', 'Atractylodes', 'Caryota', 'Actaea', 'Amana', 'Linaria', 'Diarrhena', 'Phlox', 'Hylodesmum', 'Juncus', 'Hovenia', 'Zephyranthes', 'Paspalum', 'Malus', 'Smallanthus', 'Potamogeton', 'Polygonatum', 'Festuca', 'Kadsura', 'Aralia', 'Vernicia', 'Pelargonium', 'Ligustrum', 'Crassula', 'Scilla', 'Raphanus', 'Phacelia', 'Tetradium', 'Mimosa', 'Sedum', 'Centella', 'Rhus', 'Alcea', 'Ulmus', 'Wisteria', 'Vigna', 'Bixa', 'Luzula', 'Chamaedorea', 'Androsace', 'Schizopepon', 'Lampranthus', 'Antirrhinum', 'Philodendron', 'Anthoxanthum', 'Saussurea', 'Oenanthe', 'Ranunculus', 'Dictamnus', 'Ageratum', 'Justicia', 'Ipomoea', 'Calanthe', 'Vicia', 'Woodwardia', 'Cuscuta', 'Escallonia', 'Plumeria', 'Filipendula', 'Alnus', 'Matricaria', 'Amorphophallus', 'Oplismenus', 'Monstera', 'Lysimachia', 'Morus', 'Petasites', 'Caltha', 'Clematis', 'Hamamelis', 'Dracaena', 'Lagerstroemia', 'Sanvitalia', 'Geranium', 'Picea', 'Pueraria', 'Ludwigia', 'Aesculus', 'Diplazium', 'Selaginella', 'Leibnitzia', 'Hydrangea', 'Imperata', 'Zingiber', 'Lycoris', 'Liparis', 'Thalictrum', 'Suaeda', 'Delphinium', 'Ageratina', 'Neillia', 'Deschampsia', 'Tilia', 'Polypogon', 'Humulopsis', 'Lophatherum', 'Callianthe', 'Stephania', 'Bistorta', 'Polemonium', 'Menyanthes', 'Tradescantia', 'Rhapis', 'Phytolacca', 'Tsuga', 'Asparagus', 'Plerandra', 'Alopecurus', 'Anthemis', 'Orixa', 'Tournefortia', 'Anemone', 'Grewia', 'Nymphaea', 'Maackia', 'Kerria', 'Agrostemma', 'Corydalis', 'Daphne', 'Bauhinia', 'Chamaecyparis', 'Hypericum', 'Araucaria', 'Coreopsis', 'Sorbus', 'Buxus', 'Galium', 'Dypsis', 'Aglaonema', 'Tragopogon', 'Arabis', 'Eurybia', 'Bletilla', 'Indigofera', 'Clerodendrum', 'Actinidia', 'Smilax', 'Orychophragmus', 'Oplopanax', 'Caragana', 'Trisetum', 'Alocasia', 'Argyranthemum', 'Pieris', 'Fuchsia', 'Matthiola', 'Mauranthemum', 'Gaillardia', 'Solanum', 'Hippeastrum', 'Caesalpinia', 'Cereus', 'Tagetes', 'Deparia', 'Populus', 'Iberis', 'Gloriosa', 'Peucedanum', 'Spinacia', 'Saposhnikovia', 'Calamagrostis', 'Cypripedium', 'Xanthium', 'Platycarya', 'Eichhornia', 'Valerianella', 'Platanthera', 'Cyrtosia', 'Nelumbo', 'Plectranthus', 'Lathyrus', 'Eomecon', 'Malva', 'Isatis', 'Platycodon', 'Codiaeum', 'Campsis', 'Podranea', 'Mallotus', 'Metasequoia', 'Adenostemma', 'Artemisia', 'Terminalia', 'Phleum', 'Cynanchum', 'Chenopodiastrum', 'Sisymbrium', 'Agrostis', 'Brachypodium', 'Cotoneaster', 'Lolium', 'Aeschynomene', 'Cosmos', 'Pleurospermum', 'Dendrobium', 'Muhlenbergia', 'Aquilegia', 'Alstonia', 'Piper', 'Colocasia', 'Hymenophyllum', 'Portulaca', 'Salvinia', 'Melica', 'Turritis', 'Clivia', 'Brassica', 'Aristolochia', 'Paulownia', 'Glyceria', 'Stauntonia', 'Helichrysum', 'Antennaria', 'Chelidonium', 'Gagea', 'Cytisus', 'Strelitzia', 'Salix', 'Hylocereus', 'Silybum', 'Lamprocapnos', 'Dicentra', 'Sisyrinchium', 'Damnacanthus', 'Solidago', 'Cleistogenes', 'Mercurialis', 'Asplenium', 'Cerastium', 'Dahlia', 'Silene', 'Commelina', 'Gladiolus', 'Glycine', 'Adenophora', 'Najas', 'Asarum', 'Mazus', 'Inula', 'Curio', 'Senecio', 'Sporobolus', 'Isodon', 'Weigela', 'Synurus', 'Rorippa', 'Cryptanthus', 'Erodium', 'Rosa', 'Kalopanax', 'Staphylea', 'Hypoestes', 'Cercis', 'Kali', 'Phyllanthus', 'Dioscorea', 'Hedera', 'Agave', 'Crepidiastrum', 'Monarda', 'Lunaria', 'Eranthis', 'Avena', 'Malvaviscus', 'Nandina', 'Taraxacum', 'Koelreuteria', 'Coix', 'Streptopus', 'Petroselinum', 'Linnaea', 'Styrax', 'Spodiopogon', 'Rotala', 'Sansevieria', 'Duranta', 'Viburnum', 'Glebionis', 'Parasenecio', 'Platycerium', 'Modiola', 'Silphium', 'Heteropappus', 'Agastache', 'Hieracium', 'Platanus', 'Brunfelsia', 'Cinnamomum', 'Campanula', 'Citrullus', 'Tripterygium', 'Onychium', 'Goodyera', 'Spiranthes', 'Lepidium', 'Convallaria', 'Oxydendrum', 'Juglans', 'Sambucus', 'Centaurea', 'Bellis', 'Osteospermum', 'Gerbera', 'Coleostephus', 'Dimorphotheca', 'Brachyscome', 'Phacellanthus', 'Cabomba', 'Cedrus', 'Dichondra', 'Maranta', 'Rhamnus', 'Phragmites', 'Shortia', 'Galega', 'Sanicula', 'Podocarpus', 'Arundinella', 'Fritillaria', 'Zea', 'Sasamorpha', 'Sagina', 'Heracleum', 'Phacelurus', 'Alchornea', 'Bergenia', 'Pinguicula', 'Arum', 'Molinia', 'Pseudocydonia', 'Draba', 'Rubia', 'Sanguisorba', 'Musa', 'Leersia', 'Mangifera', 'Vaccinium', 'Plagiorhegma', 'Saxifraga', 'Abeliophyllum', 'Caryopteris', 'Levisticum', 'Thlaspi', 'Nopalea', 'Oreorchis', 'Arctium', 'Arbutus', 'Psidium', 'Crassocephalum', 'Ardisia', 'Saccharum', 'Descurainia', 'Lycium', 'Cardiospermum', 'Briza', 'Utricularia', 'Callistemon', 'Sinningia', 'Saponaria', 'Glycyrrhiza', 'Perilla', 'Thesium', 'Rhynchospora', 'Catalpa', 'Euryale', 'Corchoropsis', 'Schefflera', 'Flueggea', 'Murdannia', 'Epipremnum', 'Podophyllum', 'Erythrina', 'Gomphrena', 'Halenia', 'Hemerocallis', 'Adenium', 'Eleocharis', 'Casimiroa', 'Rheum', 'Acacia', 'Mentha', 'Cynara', 'Adonis', 'Adenocaulon', 'Anthriscus', 'Urtica', 'Liatris', 'Pavonia', 'Echinacea', 'Codonopsis', 'Sigesbeckia', 'Semiaquilegia', 'Sparganium', 'Honckenya', 'Eriocaulon', 'Aspidistra', 'Datura', 'Brugmansia', 'Xerochrysum', 'Triticum', 'Eucommia', 'Dryas', 'Caulophyllum', 'Helianthus', 'Melampodium', 'Rhynchosia', 'Agrimonia', 'Serruria', 'Amelanchier', 'Washingtonia', 'Nabalus', 'Fragaria', 'Cyclamen', 'Adiantum', 'Lythrum', 'Schoenoplectus', 'Kniphofia', 'Holcus', 'Spergularia', 'Tricyrtis', 'Lysionotus', 'Leontopodium', 'Crocus', 'Cocculus', 'Elaeocarpus', 'Isachne', 'Tamarix', 'Triadica', 'Annona', 'Cayratia', 'Lantana', 'Aphelandra', 'Daucus', 'Rhodotypos', 'Carthamus', 'Vanda', 'Oryza', 'Hygrophila', 'Parnassia', 'Physalis', 'Monotropa', 'Syringa', 'Spirodela', 'Freesia', 'Lapsanastrum', 'Amaryllis', 'Atropa', 'Bellardia', 'Haworthia', 'Diodia', 'Acanthus', 'Elymus', 'Pollia', 'Fatoua', 'Ostericum', 'Aloe', 'Aristaloe', 'Platycladus', 'Murraya', 'Echinops', 'Tiarella', 'Phellodendron', 'Echinocactus', 'Cnidium', 'Neoshirakia', 'Pinellia', 'Eriochloa', 'Tanacetum', 'Leucanthemum', 'Torilis', 'Pseudosasa', 'Sceptridium', 'Symplocos', 'Gymnocladus', 'Coffea', 'Dieffenbachia', 'Cotinus', 'Klasea', 'Eucharis', 'Hedychium', 'Lotus', 'Crinum', 'Albuca', 'Picrasma', 'Turnera', 'Paris', 'Chaerophyllum', 'Mammillaria', 'Prunella', 'Veratrum', 'Gamochaeta', 'Lygodium', 'Gynostemma', 'Baptisia', '×Graptoveria', 'Liriodendron', 'Panicum', 'Macaranga', 'Phalaenopsis', 'Jacobaea', 'Osmorhiza', 'Distylium', 'Miscanthus', 'Bulbostylis', 'Streptolirion', 'Pulsatilla', 'Polygonum', 'Bassia', 'Armoracia', 'Nicotiana', 'Erythronium', 'Gardneria', 'Phaseolus', 'Gardenia', 'Tetragonia', 'Astragalus', 'Hordeum', 'Setaria', 'Machilus', 'Mankyua', 'Serratula', 'Pachysandra', 'Lobelia', 'Helwingia', 'Alpinia', 'Ophiorrhiza', 'Nanocnide', 'Osmundastrum', 'Tibouchina', 'Hyoscyamus', 'Gastrodia', 'Triodanis', 'Pachira', 'Picris', 'Fallopia', 'Brasenia', 'Cynodon', 'Foeniculum', 'Lagenaria', 'Fagus', 'Styphnolobium', 'Davallia', 'Physocarpus', 'Parietaria', 'Veronica']\n"
     ]
    }
   ],
   "source": [
    "import pickle\n",
    "# '국명' 열을 리스트로 변환\n",
    "with open('C:/my_code/implant/croller/path_to_your_pickle.pkl', 'rb') as file:\n",
    "    df = pickle.load(file)\n",
    "name_list = df['Veronica'].tolist()\n",
    "name_list.append('Veronica')\n",
    "print(name_list)\n",
    "\n",
    "with open('C:/my_code/implant/croller/path_to_your_pickle.pkl', 'wb') as f:\n",
    "    pickle.dump(name_list, f)"
   ]
  },
  {
   "cell_type": "code",
   "execution_count": 3,
   "metadata": {},
   "outputs": [
    {
     "ename": "ModuleNotFoundError",
     "evalue": "No module named 'pandas.core.indexes.numeric'",
     "output_type": "error",
     "traceback": [
      "\u001b[1;31m---------------------------------------------------------------------------\u001b[0m",
      "\u001b[1;31mModuleNotFoundError\u001b[0m                       Traceback (most recent call last)",
      "Cell \u001b[1;32mIn[3], line 5\u001b[0m\n\u001b[0;32m      3\u001b[0m \u001b[38;5;66;03m#import pandas\u001b[39;00m\n\u001b[0;32m      4\u001b[0m \u001b[38;5;28;01mwith\u001b[39;00m \u001b[38;5;28mopen\u001b[39m(\u001b[38;5;124m'\u001b[39m\u001b[38;5;124mC:/my_code/implant/product.pkl\u001b[39m\u001b[38;5;124m'\u001b[39m, \u001b[38;5;124m'\u001b[39m\u001b[38;5;124mrb\u001b[39m\u001b[38;5;124m'\u001b[39m) \u001b[38;5;28;01mas\u001b[39;00m file:\n\u001b[1;32m----> 5\u001b[0m     df2 \u001b[38;5;241m=\u001b[39m \u001b[43mpickle\u001b[49m\u001b[38;5;241;43m.\u001b[39;49m\u001b[43mload\u001b[49m\u001b[43m(\u001b[49m\u001b[43mfile\u001b[49m\u001b[43m)\u001b[49m\n\u001b[0;32m      6\u001b[0m df2\n",
      "\u001b[1;31mModuleNotFoundError\u001b[0m: No module named 'pandas.core.indexes.numeric'"
     ]
    }
   ],
   "source": [
    "import re\n",
    "import pickle\n",
    "#import pandas\n",
    "with open('C:/my_code/implant/product.pkl', 'rb') as file:\n",
    "    df2 = pickle.load(file)\n",
    "df2"
   ]
  }
 ],
 "metadata": {
  "kernelspec": {
   "display_name": "base",
   "language": "python",
   "name": "python3"
  },
  "language_info": {
   "codemirror_mode": {
    "name": "ipython",
    "version": 3
   },
   "file_extension": ".py",
   "mimetype": "text/x-python",
   "name": "python",
   "nbconvert_exporter": "python",
   "pygments_lexer": "ipython3",
   "version": "3.10.9"
  }
 },
 "nbformat": 4,
 "nbformat_minor": 2
}
